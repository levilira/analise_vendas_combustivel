{
  "nbformat": 4,
  "nbformat_minor": 0,
  "metadata": {
    "colab": {
      "name": "projeto_pandas.ipynb",
      "provenance": [],
      "collapsed_sections": [],
      "authorship_tag": "ABX9TyPDxuRh32QTz9TaHNvi2rK0",
      "include_colab_link": true
    },
    "kernelspec": {
      "name": "python3",
      "display_name": "Python 3"
    },
    "language_info": {
      "name": "python"
    }
  },
  "cells": [
    {
      "cell_type": "markdown",
      "metadata": {
        "id": "view-in-github",
        "colab_type": "text"
      },
      "source": [
        "<a href=\"https://colab.research.google.com/github/levilira/analise_vendas_combustivel/blob/main/projeto_pandas.ipynb\" target=\"_parent\"><img src=\"https://colab.research.google.com/assets/colab-badge.svg\" alt=\"Open In Colab\"/></a>"
      ]
    },
    {
      "cell_type": "code",
      "metadata": {
        "id": "YGWq4YinV8bC"
      },
      "source": [
        "import pandas as pd \n",
        "import matplotlib.pyplot as plt\n",
        "plt.style.use(\"seaborn\")"
      ],
      "execution_count": 32,
      "outputs": []
    },
    {
      "cell_type": "code",
      "metadata": {
        "id": "n5sjcJuHWrjK"
      },
      "source": [
        "df = pd.read_csv(\"/content/vendas-derivados-petroleo-etanol-m3-1990-2021.csv\", sep=\";\", error_bad_lines = False)"
      ],
      "execution_count": 33,
      "outputs": []
    },
    {
      "cell_type": "code",
      "metadata": {
        "colab": {
          "base_uri": "https://localhost:8080/",
          "height": 204
        },
        "id": "0VUB0aaqXB_w",
        "outputId": "56e98d94-b4a2-4c49-fd6f-3ee27e57f9a2"
      },
      "source": [
        "df.head(5)"
      ],
      "execution_count": 34,
      "outputs": [
        {
          "output_type": "execute_result",
          "data": {
            "text/html": [
              "<div>\n",
              "<style scoped>\n",
              "    .dataframe tbody tr th:only-of-type {\n",
              "        vertical-align: middle;\n",
              "    }\n",
              "\n",
              "    .dataframe tbody tr th {\n",
              "        vertical-align: top;\n",
              "    }\n",
              "\n",
              "    .dataframe thead th {\n",
              "        text-align: right;\n",
              "    }\n",
              "</style>\n",
              "<table border=\"1\" class=\"dataframe\">\n",
              "  <thead>\n",
              "    <tr style=\"text-align: right;\">\n",
              "      <th></th>\n",
              "      <th>ANO</th>\n",
              "      <th>MÊS</th>\n",
              "      <th>GRANDE REGIÃO</th>\n",
              "      <th>UNIDADE DA FEDERAÇÃO</th>\n",
              "      <th>PRODUTO</th>\n",
              "      <th>VENDAS</th>\n",
              "    </tr>\n",
              "  </thead>\n",
              "  <tbody>\n",
              "    <tr>\n",
              "      <th>0</th>\n",
              "      <td>2014</td>\n",
              "      <td>MAI</td>\n",
              "      <td>REGIÃO SUL</td>\n",
              "      <td>RIO GRANDE DO SUL</td>\n",
              "      <td>ETANOL HIDRATADO</td>\n",
              "      <td>8610,058</td>\n",
              "    </tr>\n",
              "    <tr>\n",
              "      <th>1</th>\n",
              "      <td>2014</td>\n",
              "      <td>DEZ</td>\n",
              "      <td>REGIÃO SUL</td>\n",
              "      <td>SANTA CATARINA</td>\n",
              "      <td>ETANOL HIDRATADO</td>\n",
              "      <td>13112,116</td>\n",
              "    </tr>\n",
              "    <tr>\n",
              "      <th>2</th>\n",
              "      <td>2014</td>\n",
              "      <td>ABR</td>\n",
              "      <td>REGIÃO SUL</td>\n",
              "      <td>RIO GRANDE DO SUL</td>\n",
              "      <td>ETANOL HIDRATADO</td>\n",
              "      <td>8462,275</td>\n",
              "    </tr>\n",
              "    <tr>\n",
              "      <th>3</th>\n",
              "      <td>2014</td>\n",
              "      <td>JAN</td>\n",
              "      <td>REGIÃO CENTRO-OESTE</td>\n",
              "      <td>MATO GROSSO DO SUL</td>\n",
              "      <td>ETANOL HIDRATADO</td>\n",
              "      <td>14524,016</td>\n",
              "    </tr>\n",
              "    <tr>\n",
              "      <th>4</th>\n",
              "      <td>2014</td>\n",
              "      <td>MAR</td>\n",
              "      <td>REGIÃO SUL</td>\n",
              "      <td>RIO GRANDE DO SUL</td>\n",
              "      <td>ETANOL HIDRATADO</td>\n",
              "      <td>8190,755</td>\n",
              "    </tr>\n",
              "  </tbody>\n",
              "</table>\n",
              "</div>"
            ],
            "text/plain": [
              "    ANO  MÊS  ...           PRODUTO     VENDAS\n",
              "0  2014  MAI  ...  ETANOL HIDRATADO   8610,058\n",
              "1  2014  DEZ  ...  ETANOL HIDRATADO  13112,116\n",
              "2  2014  ABR  ...  ETANOL HIDRATADO   8462,275\n",
              "3  2014  JAN  ...  ETANOL HIDRATADO  14524,016\n",
              "4  2014  MAR  ...  ETANOL HIDRATADO   8190,755\n",
              "\n",
              "[5 rows x 6 columns]"
            ]
          },
          "metadata": {},
          "execution_count": 34
        }
      ]
    },
    {
      "cell_type": "code",
      "metadata": {
        "colab": {
          "base_uri": "https://localhost:8080/"
        },
        "id": "5mSp4ASSXlzQ",
        "outputId": "10aec354-9a64-49f3-a299-7b1977173c53"
      },
      "source": [
        "df.columns"
      ],
      "execution_count": 35,
      "outputs": [
        {
          "output_type": "execute_result",
          "data": {
            "text/plain": [
              "Index(['ANO', 'MÊS', 'GRANDE REGIÃO', 'UNIDADE DA FEDERAÇÃO', 'PRODUTO',\n",
              "       'VENDAS'],\n",
              "      dtype='object')"
            ]
          },
          "metadata": {},
          "execution_count": 35
        }
      ]
    },
    {
      "cell_type": "code",
      "metadata": {
        "colab": {
          "base_uri": "https://localhost:8080/"
        },
        "id": "F-sQWHyMX7XE",
        "outputId": "a8814be4-487a-4d4f-8919-7265a1432823"
      },
      "source": [
        "df.dtypes"
      ],
      "execution_count": 36,
      "outputs": [
        {
          "output_type": "execute_result",
          "data": {
            "text/plain": [
              "ANO                      int64\n",
              "MÊS                     object\n",
              "GRANDE REGIÃO           object\n",
              "UNIDADE DA FEDERAÇÃO    object\n",
              "PRODUTO                 object\n",
              "VENDAS                  object\n",
              "dtype: object"
            ]
          },
          "metadata": {},
          "execution_count": 36
        }
      ]
    },
    {
      "cell_type": "code",
      "metadata": {
        "colab": {
          "base_uri": "https://localhost:8080/"
        },
        "id": "7wU2kDp5YheX",
        "outputId": "d41f7ee4-ac51-480c-a19e-2164d2bfd8e0"
      },
      "source": [
        "df.isnull().sum()"
      ],
      "execution_count": 37,
      "outputs": [
        {
          "output_type": "execute_result",
          "data": {
            "text/plain": [
              "ANO                     0\n",
              "MÊS                     0\n",
              "GRANDE REGIÃO           0\n",
              "UNIDADE DA FEDERAÇÃO    0\n",
              "PRODUTO                 0\n",
              "VENDAS                  0\n",
              "dtype: int64"
            ]
          },
          "metadata": {},
          "execution_count": 37
        }
      ]
    },
    {
      "cell_type": "code",
      "metadata": {
        "id": "gkr9coWtYt3m"
      },
      "source": [
        "df['VENDAS'] = df['VENDAS'].apply(lambda x: str(x).replace(\",\",\".\"))"
      ],
      "execution_count": 38,
      "outputs": []
    },
    {
      "cell_type": "code",
      "metadata": {
        "id": "vvj3MwljrzKR"
      },
      "source": [
        "df['VENDAS'] = df['VENDAS'].astype('float64')"
      ],
      "execution_count": 57,
      "outputs": []
    },
    {
      "cell_type": "code",
      "metadata": {
        "id": "veZSVRv0uXVw"
      },
      "source": [
        "df['ANO'] = df['ANO'].astype('object')"
      ],
      "execution_count": 56,
      "outputs": []
    },
    {
      "cell_type": "code",
      "metadata": {
        "colab": {
          "base_uri": "https://localhost:8080/"
        },
        "id": "VvwMdBdXr3XJ",
        "outputId": "75af6254-1140-4055-8112-333bf37e6c90"
      },
      "source": [
        "df.dtypes"
      ],
      "execution_count": 41,
      "outputs": [
        {
          "output_type": "execute_result",
          "data": {
            "text/plain": [
              "ANO                      object\n",
              "MÊS                      object\n",
              "GRANDE REGIÃO            object\n",
              "UNIDADE DA FEDERAÇÃO     object\n",
              "PRODUTO                  object\n",
              "VENDAS                  float64\n",
              "dtype: object"
            ]
          },
          "metadata": {},
          "execution_count": 41
        }
      ]
    },
    {
      "cell_type": "code",
      "metadata": {
        "id": "Q_7rDLV3uVkl"
      },
      "source": [
        ""
      ],
      "execution_count": 41,
      "outputs": []
    },
    {
      "cell_type": "code",
      "metadata": {
        "colab": {
          "base_uri": "https://localhost:8080/"
        },
        "id": "gm9SZQL-tcn-",
        "outputId": "adbe5abe-f0ef-46cd-8b1a-a127c44ad38d"
      },
      "source": [
        "df['VENDAS'].mean()"
      ],
      "execution_count": 42,
      "outputs": [
        {
          "output_type": "execute_result",
          "data": {
            "text/plain": [
              "40173.49507094353"
            ]
          },
          "metadata": {},
          "execution_count": 42
        }
      ]
    },
    {
      "cell_type": "code",
      "metadata": {
        "colab": {
          "base_uri": "https://localhost:8080/"
        },
        "id": "kj2uKISptykG",
        "outputId": "8e7833f9-4244-493c-8389-2bbf0bca014a"
      },
      "source": [
        "df['VENDAS'].min()"
      ],
      "execution_count": 43,
      "outputs": [
        {
          "output_type": "execute_result",
          "data": {
            "text/plain": [
              "-56.76928894"
            ]
          },
          "metadata": {},
          "execution_count": 43
        }
      ]
    },
    {
      "cell_type": "code",
      "metadata": {
        "colab": {
          "base_uri": "https://localhost:8080/"
        },
        "id": "kVZjDhvtuVfx",
        "outputId": "d83c6071-381c-4b9e-efb8-5b8a462ad1bc"
      },
      "source": [
        "df.groupby(\"GRANDE REGIÃO\")[\"VENDAS\"].sum()"
      ],
      "execution_count": 44,
      "outputs": [
        {
          "output_type": "execute_result",
          "data": {
            "text/plain": [
              "GRANDE REGIÃO\n",
              "REGIÃO CENTRO-OESTE    338586125.818\n",
              "REGIÃO NORDESTE        529503067.685\n",
              "REGIÃO NORTE           244304900.838\n",
              "REGIÃO SUDESTE        1599357521.338\n",
              "REGIÃO SUL             594366334.679\n",
              "Name: VENDAS, dtype: float64"
            ]
          },
          "metadata": {},
          "execution_count": 44
        }
      ]
    },
    {
      "cell_type": "code",
      "metadata": {
        "id": "N71JZHs4u-eo",
        "colab": {
          "base_uri": "https://localhost:8080/"
        },
        "outputId": "793f3fbb-483c-420f-86d3-75d4068e04b2"
      },
      "source": [
        "df.groupby(\"UNIDADE DA FEDERAÇÃO\")[\"VENDAS\"].sum()"
      ],
      "execution_count": 45,
      "outputs": [
        {
          "output_type": "execute_result",
          "data": {
            "text/plain": [
              "UNIDADE DA FEDERAÇÃO\n",
              "ACRE                    8859839.305\n",
              "ALAGOAS                25385976.708\n",
              "AMAPÁ                   9526367.174\n",
              "AMAZONAS               59293697.361\n",
              "BAHIA                 169744750.517\n",
              "CEARÁ                  67777463.655\n",
              "DISTRITO FEDERAL       55069004.356\n",
              "ESPÍRITO SANTO         65791840.251\n",
              "GOIÁS                 133142872.979\n",
              "MARANHÃO               59309520.682\n",
              "MATO GROSSO            92148463.572\n",
              "MATO GROSSO DO SUL     58225784.911\n",
              "MINAS GERAIS          364732145.623\n",
              "PARANÁ                247205109.551\n",
              "PARAÍBA                35715722.713\n",
              "PARÁ                   99596400.259\n",
              "PERNAMBUCO             91691504.684\n",
              "PIAUÍ                  25849170.672\n",
              "RIO DE JANEIRO        220552511.340\n",
              "RIO GRANDE DO NORTE    32844922.973\n",
              "RIO GRANDE DO SUL     208531531.009\n",
              "RONDÔNIA               32485790.041\n",
              "RORAIMA                 7284129.290\n",
              "SANTA CATARINA        138629694.119\n",
              "SERGIPE                21184035.080\n",
              "SÃO PAULO             948281024.124\n",
              "TOCANTINS              27258677.407\n",
              "Name: VENDAS, dtype: float64"
            ]
          },
          "metadata": {},
          "execution_count": 45
        }
      ]
    },
    {
      "cell_type": "code",
      "metadata": {
        "id": "vCz56OPyrdvB"
      },
      "source": [
        "pd.set_option('float_format', '{:.3f}'.format)"
      ],
      "execution_count": 46,
      "outputs": []
    },
    {
      "cell_type": "code",
      "metadata": {
        "colab": {
          "base_uri": "https://localhost:8080/"
        },
        "id": "FS3QysPHtf6g",
        "outputId": "cfc9314c-56f5-40d3-cd36-c25df89fac30"
      },
      "source": [
        "df.groupby(\"UNIDADE DA FEDERAÇÃO\")[\"VENDAS\"].sum()"
      ],
      "execution_count": 47,
      "outputs": [
        {
          "output_type": "execute_result",
          "data": {
            "text/plain": [
              "UNIDADE DA FEDERAÇÃO\n",
              "ACRE                    8859839.305\n",
              "ALAGOAS                25385976.708\n",
              "AMAPÁ                   9526367.174\n",
              "AMAZONAS               59293697.361\n",
              "BAHIA                 169744750.517\n",
              "CEARÁ                  67777463.655\n",
              "DISTRITO FEDERAL       55069004.356\n",
              "ESPÍRITO SANTO         65791840.251\n",
              "GOIÁS                 133142872.979\n",
              "MARANHÃO               59309520.682\n",
              "MATO GROSSO            92148463.572\n",
              "MATO GROSSO DO SUL     58225784.911\n",
              "MINAS GERAIS          364732145.623\n",
              "PARANÁ                247205109.551\n",
              "PARAÍBA                35715722.713\n",
              "PARÁ                   99596400.259\n",
              "PERNAMBUCO             91691504.684\n",
              "PIAUÍ                  25849170.672\n",
              "RIO DE JANEIRO        220552511.340\n",
              "RIO GRANDE DO NORTE    32844922.973\n",
              "RIO GRANDE DO SUL     208531531.009\n",
              "RONDÔNIA               32485790.041\n",
              "RORAIMA                 7284129.290\n",
              "SANTA CATARINA        138629694.119\n",
              "SERGIPE                21184035.080\n",
              "SÃO PAULO             948281024.124\n",
              "TOCANTINS              27258677.407\n",
              "Name: VENDAS, dtype: float64"
            ]
          },
          "metadata": {},
          "execution_count": 47
        }
      ]
    },
    {
      "cell_type": "code",
      "metadata": {
        "colab": {
          "base_uri": "https://localhost:8080/",
          "height": 297
        },
        "id": "vau2bwxXtg71",
        "outputId": "22e05be4-1103-437b-f6b6-f8f539ddd34c"
      },
      "source": [
        "df.describe()"
      ],
      "execution_count": 48,
      "outputs": [
        {
          "output_type": "execute_result",
          "data": {
            "text/html": [
              "<div>\n",
              "<style scoped>\n",
              "    .dataframe tbody tr th:only-of-type {\n",
              "        vertical-align: middle;\n",
              "    }\n",
              "\n",
              "    .dataframe tbody tr th {\n",
              "        vertical-align: top;\n",
              "    }\n",
              "\n",
              "    .dataframe thead th {\n",
              "        text-align: right;\n",
              "    }\n",
              "</style>\n",
              "<table border=\"1\" class=\"dataframe\">\n",
              "  <thead>\n",
              "    <tr style=\"text-align: right;\">\n",
              "      <th></th>\n",
              "      <th>VENDAS</th>\n",
              "    </tr>\n",
              "  </thead>\n",
              "  <tbody>\n",
              "    <tr>\n",
              "      <th>count</th>\n",
              "      <td>82296.000</td>\n",
              "    </tr>\n",
              "    <tr>\n",
              "      <th>mean</th>\n",
              "      <td>40173.495</td>\n",
              "    </tr>\n",
              "    <tr>\n",
              "      <th>std</th>\n",
              "      <td>99315.387</td>\n",
              "    </tr>\n",
              "    <tr>\n",
              "      <th>min</th>\n",
              "      <td>-56.769</td>\n",
              "    </tr>\n",
              "    <tr>\n",
              "      <th>25%</th>\n",
              "      <td>304.020</td>\n",
              "    </tr>\n",
              "    <tr>\n",
              "      <th>50%</th>\n",
              "      <td>7148.808</td>\n",
              "    </tr>\n",
              "    <tr>\n",
              "      <th>75%</th>\n",
              "      <td>33956.824</td>\n",
              "    </tr>\n",
              "    <tr>\n",
              "      <th>max</th>\n",
              "      <td>1272781.396</td>\n",
              "    </tr>\n",
              "  </tbody>\n",
              "</table>\n",
              "</div>"
            ],
            "text/plain": [
              "           VENDAS\n",
              "count   82296.000\n",
              "mean    40173.495\n",
              "std     99315.387\n",
              "min       -56.769\n",
              "25%       304.020\n",
              "50%      7148.808\n",
              "75%     33956.824\n",
              "max   1272781.396"
            ]
          },
          "metadata": {},
          "execution_count": 48
        }
      ]
    },
    {
      "cell_type": "code",
      "metadata": {
        "colab": {
          "base_uri": "https://localhost:8080/"
        },
        "id": "bKUnCbCgtoPf",
        "outputId": "86f5f2ef-1fe9-4730-959c-3953dd2ef308"
      },
      "source": [
        "df.groupby(\"GRANDE REGIÃO\")[\"VENDAS\"].sum()"
      ],
      "execution_count": 28,
      "outputs": [
        {
          "output_type": "execute_result",
          "data": {
            "text/plain": [
              "GRANDE REGIÃO\n",
              "REGIÃO CENTRO-OESTE    338586125.818\n",
              "REGIÃO NORDESTE        529503067.685\n",
              "REGIÃO NORTE           244304900.838\n",
              "REGIÃO SUDESTE        1599357521.338\n",
              "REGIÃO SUL             594366334.679\n",
              "Name: VENDAS, dtype: float64"
            ]
          },
          "metadata": {},
          "execution_count": 28
        }
      ]
    },
    {
      "cell_type": "code",
      "metadata": {
        "colab": {
          "base_uri": "https://localhost:8080/"
        },
        "id": "lkHKpZnJuIwn",
        "outputId": "35dd075a-b18f-463f-f423-ed975a6786d1"
      },
      "source": [
        "df.groupby(\"ANO\")[\"VENDAS\"].sum()"
      ],
      "execution_count": 29,
      "outputs": [
        {
          "output_type": "execute_result",
          "data": {
            "text/plain": [
              "ANO\n",
              "1990    72997178.789\n",
              "1991    70049243.820\n",
              "1992    68758843.506\n",
              "1993    71351348.678\n",
              "1994    74558939.488\n",
              "1995    79881993.142\n",
              "1996    86716992.939\n",
              "1997    88885824.283\n",
              "1998    92007593.520\n",
              "1999    92054878.857\n",
              "2000    89817744.275\n",
              "2001    89624698.437\n",
              "2002    88496736.979\n",
              "2003    83734363.179\n",
              "2004    88419801.742\n",
              "2005    88807391.635\n",
              "2006    90672793.972\n",
              "2007    97785714.714\n",
              "2008   105972512.908\n",
              "2009   108802853.781\n",
              "2010   117951824.429\n",
              "2011   122233802.629\n",
              "2012   129688678.360\n",
              "2013   137331907.424\n",
              "2014   144582773.520\n",
              "2015   141816481.052\n",
              "2016   135441653.806\n",
              "2017   136087820.823\n",
              "2018   136156401.169\n",
              "2019   140135095.673\n",
              "2020   131768990.644\n",
              "2021   103525072.186\n",
              "Name: VENDAS, dtype: float64"
            ]
          },
          "metadata": {},
          "execution_count": 29
        }
      ]
    },
    {
      "cell_type": "code",
      "metadata": {
        "id": "uoNOnb8RvU3w",
        "colab": {
          "base_uri": "https://localhost:8080/",
          "height": 473
        },
        "outputId": "3d4310a3-003e-46f8-8622-db6675c71588"
      },
      "source": [
        "df.groupby(\"GRANDE REGIÃO\")[\"VENDAS\"].sum().sort_values(ascending=False).plot.bar(title=\"TOTAL VENDAS POR REGIÃO\")\n",
        "plt.xlabel(\"\")\n",
        "plt.ylabel(\"VENDAS\");"
      ],
      "execution_count": 54,
      "outputs": [
        {
          "output_type": "display_data",
          "data": {
            "image/png": "[encoded data removed]",
            "text/plain": [
              "<Figure size 576x396 with 1 Axes>"
            ]
          },
          "metadata": {}
        }
      ]
    },
    {
      "cell_type": "code",
      "metadata": {
        "colab": {
          "base_uri": "https://localhost:8080/",
          "height": 376
        },
        "id": "gLO5AY857cxr",
        "outputId": "dfb249b0-35a0-416c-8c4b-009de92a7125"
      },
      "source": [
        "df.groupby(\"ANO\")[\"VENDAS\"].sum().plot(title=\"TOTAL VENDAS POR ANO\")\n",
        "plt.xlabel(\"ANO\")\n",
        "plt.ylabel(\"VENDAS\");"
      ],
      "execution_count": 67,
      "outputs": [
        {
          "output_type": "display_data",
          "data": {
            "image/png": "[encoded data removed]",
            "text/plain": [
              "<Figure size 576x396 with 1 Axes>"
            ]
          },
          "metadata": {}
        }
      ]
    },
    {
      "cell_type": "code",
      "metadata": {
        "colab": {
          "base_uri": "https://localhost:8080/"
        },
        "id": "Ww7WIPmtH8Q9",
        "outputId": "5ccfbf34-0ef8-4e68-ff02-7b5b38f618cb"
      },
      "source": [
        "df.groupby(\"PRODUTO\")[\"VENDAS\"].sum()"
      ],
      "execution_count": 78,
      "outputs": [
        {
          "output_type": "execute_result",
          "data": {
            "text/plain": [
              "PRODUTO\n",
              "ETANOL HIDRATADO        341559813.347\n",
              "GASOLINA C              865637346.466\n",
              "GASOLINA DE AVIAÇÃO       2033047.893\n",
              "GLP                     380752703.455\n",
              "QUEROSENE DE AVIAÇÃO    160528428.750\n",
              "QUEROSENE ILUMINANTE      3117639.895\n",
              "ÓLEO COMBUSTÍVEL        206397138.609\n",
              "ÓLEO DIESEL            1346091831.943\n",
              "Name: VENDAS, dtype: float64"
            ]
          },
          "metadata": {},
          "execution_count": 78
        }
      ]
    },
    {
      "cell_type": "code",
      "metadata": {
        "colab": {
          "base_uri": "https://localhost:8080/",
          "height": 494
        },
        "id": "lHeOVMglCRQA",
        "outputId": "a3c40787-3913-4042-9254-f7ce38279f5f"
      },
      "source": [
        "df.groupby(\"PRODUTO\")[\"VENDAS\"].sum().sort_values(ascending=False).plot.bar(title=\"TOTAL VENDAS POR PRODUTO\")\n",
        "plt.xlabel(\"PRODUTO\")\n",
        "plt.ylabel(\"VENDAS\");"
      ],
      "execution_count": 76,
      "outputs": [
        {
          "output_type": "display_data",
          "data": {
            "image/png": "[encoded data removed]",
            "text/plain": [
              "<Figure size 576x396 with 1 Axes>"
            ]
          },
          "metadata": {}
        }
      ]
    },
    {
      "cell_type": "code",
      "metadata": {
        "colab": {
          "base_uri": "https://localhost:8080/"
        },
        "id": "SmwWvVx_HpZD",
        "outputId": "712cb536-7eed-4fbf-e8d9-fd34e9772ceb"
      },
      "source": [
        "df.to_csv(\"df_vendas_novo.csv\", index=False), "
      ],
      "execution_count": 79,
      "outputs": [
        {
          "output_type": "execute_result",
          "data": {
            "text/plain": [
              "(None,)"
            ]
          },
          "metadata": {},
          "execution_count": 79
        }
      ]
    },
    {
      "cell_type": "code",
      "metadata": {
        "id": "rwHgoGTUGsMQ"
      },
      "source": [
        ""
      ],
      "execution_count": null,
      "outputs": []
    }
  ]
}